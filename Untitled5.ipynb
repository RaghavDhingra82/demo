{
 "cells": [
  {
   "cell_type": "code",
   "execution_count": 2,
   "id": "ee5b8cf8",
   "metadata": {},
   "outputs": [],
   "source": [
    "# a = input(\"ewkn\")\n",
    "# print(a)"
   ]
  },
  {
   "cell_type": "code",
   "execution_count": 3,
   "id": "33993030",
   "metadata": {},
   "outputs": [
    {
     "name": "stdout",
     "output_type": "stream",
     "text": [
      "7\n"
     ]
    }
   ],
   "source": [
    "print(3+4)"
   ]
  },
  {
   "cell_type": "code",
   "execution_count": 8,
   "id": "01ddf018",
   "metadata": {},
   "outputs": [
    {
     "name": "stdout",
     "output_type": "stream",
     "text": [
      "False\n"
     ]
    }
   ],
   "source": [
    "a=34\n",
    "b=80\n",
    "print (a>b)"
   ]
  },
  {
   "cell_type": "code",
   "execution_count": 9,
   "id": "9072e64b",
   "metadata": {},
   "outputs": [
    {
     "name": "stdout",
     "output_type": "stream",
     "text": [
      "True\n"
     ]
    }
   ],
   "source": [
    "print(b>a)\n"
   ]
  },
  {
   "cell_type": "code",
   "execution_count": 16,
   "id": "2d279fdc",
   "metadata": {},
   "outputs": [
    {
     "name": "stdout",
     "output_type": "stream",
     "text": [
      "enter 1st value20\n",
      "enter 2nd value30\n",
      "25.0\n"
     ]
    }
   ],
   "source": [
    "a= input(\"enter 1st value\")\n",
    "b=input(\"enter 2nd value\")\n",
    "a=int(a)\n",
    "b=int(b)\n",
    "avg= (a+b)/2\n",
    "print (avg)"
   ]
  },
  {
   "cell_type": "code",
   "execution_count": 18,
   "id": "6fd08eb8",
   "metadata": {},
   "outputs": [
    {
     "name": "stdout",
     "output_type": "stream",
     "text": [
      "4\n"
     ]
    }
   ],
   "source": [
    "A=2\n",
    "print (A*A)"
   ]
  },
  {
   "cell_type": "code",
   "execution_count": null,
   "id": "eabd4719",
   "metadata": {},
   "outputs": [],
   "source": []
  },
  {
   "cell_type": "code",
   "execution_count": null,
   "id": "806e6a9d",
   "metadata": {},
   "outputs": [],
   "source": []
  },
  {
   "cell_type": "code",
   "execution_count": null,
   "id": "76db1cc5",
   "metadata": {},
   "outputs": [],
   "source": []
  },
  {
   "cell_type": "code",
   "execution_count": null,
   "id": "4917d9ea",
   "metadata": {},
   "outputs": [],
   "source": []
  },
  {
   "cell_type": "code",
   "execution_count": null,
   "id": "d4498527",
   "metadata": {},
   "outputs": [],
   "source": []
  }
 ],
 "metadata": {
  "kernelspec": {
   "display_name": "Python 3 (ipykernel)",
   "language": "python",
   "name": "python3"
  },
  "language_info": {
   "codemirror_mode": {
    "name": "ipython",
    "version": 3
   },
   "file_extension": ".py",
   "mimetype": "text/x-python",
   "name": "python",
   "nbconvert_exporter": "python",
   "pygments_lexer": "ipython3",
   "version": "3.11.3"
  }
 },
 "nbformat": 4,
 "nbformat_minor": 5
}
